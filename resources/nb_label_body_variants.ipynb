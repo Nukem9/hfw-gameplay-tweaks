{
 "cells": [
  {
   "cell_type": "code",
   "execution_count": 10,
   "metadata": {
    "dotnet_interactive": {
     "language": "csharp"
    },
    "polyglot_notebook": {
     "kernelName": "csharp"
    }
   },
   "outputs": [],
   "source": [
    "using System;\n",
    "using System.IO;\n",
    "using System.Text.Json;\n",
    "\n",
    "public class SpawnSetupName\n",
    "{\n",
    "    public required string SetupUUID { get; init; }\n",
    "    public required string Name { get; init; }\n",
    "}\n",
    "\n",
    "var allSpawnSetupNames = JsonSerializer.Deserialize<List<SpawnSetupName>>(File.ReadAllText(Path.Combine(Environment.CurrentDirectory, \"spawnsetup_names.txt\")));\n",
    "\n",
    "public class SpawnSetupBodyVariant\n",
    "{\n",
    "    public required string SetupUUID { get; init; }\n",
    "    public required string VariantUUID { get; init; }\n",
    "}\n",
    "\n",
    "var allSpawnSetupBodyVariants = JsonSerializer.Deserialize<List<SpawnSetupBodyVariant>>(File.ReadAllText(Path.Combine(Environment.CurrentDirectory, \"spawnsetup_bodyvariants.txt\")));\n",
    "\n",
    "public class BodyVariantRootUUID\n",
    "{\n",
    "    public required string VariantUUID { get; init; }\n",
    "    public required string RootUUID { get; init; }\n",
    "}\n",
    "\n",
    "var allBodyVariantRootUUIDs = JsonSerializer.Deserialize<List<BodyVariantRootUUID>>(File.ReadAllText(Path.Combine(Environment.CurrentDirectory, \"bodyvariant_rootuuids.txt\")));\n",
    "\n",
    "string getSpawnSetupNameForBodyVariant(string bodyVariantUUID)\n",
    "{\n",
    "    var firstMapping = allSpawnSetupBodyVariants\n",
    "        .FirstOrDefault(x => x.VariantUUID == bodyVariantUUID);\n",
    "\n",
    "    if (firstMapping != null)\n",
    "    {\n",
    "        var secondMapping = allSpawnSetupNames\n",
    "            .FindAll(x => x.SetupUUID == firstMapping.SetupUUID)\n",
    "            .ToList();\n",
    "\n",
    "        // Single SpawnSetup UUIDs can map to multiple names. Ensure they all match.\n",
    "        if (secondMapping.DistinctBy(x => x.Name).Count() == 1)\n",
    "            return secondMapping.First().Name;\n",
    "    }\n",
    "\n",
    "    return \"X\";\n",
    "}\n",
    "\n",
    "// The incoming list may contain duplicate BodyVariants UUIDs belonging to different RootUUIDs. We'll use the RootUUID containing\n",
    "// the fewest number of UUIDs.\n",
    "var byHash = new Dictionary<string, (string UUID, string RootUUID, string Name)>();\n",
    "var bySmallestRootUUIDCount = allBodyVariantRootUUIDs\n",
    "    .GroupBy(x => x.RootUUID)\n",
    "    .ToList()\n",
    "    .OrderBy(x => x.Count());\n",
    "\n",
    "foreach (var group in bySmallestRootUUIDCount)\n",
    "{\n",
    "    foreach (var entry in group)\n",
    "        byHash.TryAdd(entry.VariantUUID, (entry.VariantUUID, entry.RootUUID, getSpawnSetupNameForBodyVariant(entry.VariantUUID)));\n",
    "}\n",
    "\n",
    "// Them dump back to disk\n",
    "var outputFilePath = Path.Combine(Environment.CurrentDirectory, \"combined_body_variant_list.txt\");\n",
    "\n",
    "File.WriteAllLines(outputFilePath, byHash\n",
    "    .Select(x => x.Value)\n",
    "    .OrderBy(x => x.UUID)\n",
    "    .Select(x => $\"    [ \\\"{x.UUID}\\\", \\\"{x.RootUUID}\\\", \\\"{x.Name}\\\" ],\")\n",
    "    .Append(\"]\")\n",
    "    .Prepend(\"    # [ UUID, Root UUID, Name ]\")\n",
    "    .Prepend(\"CachedBodyVariants = [\"));"
   ]
  }
 ],
 "metadata": {
  "kernelspec": {
   "display_name": ".NET (C#)",
   "language": "C#",
   "name": ".net-csharp"
  },
  "language_info": {
   "name": "polyglot-notebook"
  },
  "polyglot_notebook": {
   "kernelInfo": {
    "defaultKernelName": "csharp",
    "items": [
     {
      "aliases": [],
      "name": "csharp"
     }
    ]
   }
  }
 },
 "nbformat": 4,
 "nbformat_minor": 2
}
