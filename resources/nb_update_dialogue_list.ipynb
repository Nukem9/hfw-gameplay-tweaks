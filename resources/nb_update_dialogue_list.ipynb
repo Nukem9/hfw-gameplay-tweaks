{
 "cells": [
  {
   "cell_type": "code",
   "execution_count": 1,
   "metadata": {
    "dotnet_interactive": {
     "language": "csharp"
    },
    "polyglot_notebook": {
     "kernelName": "csharp"
    }
   },
   "outputs": [
    {
     "name": "stdout",
     "output_type": "stream",
     "text": [
      "Total translation files: 4778\n",
      "Total translations: 58898\n",
      "Blacklisted translations in mod file: 1224\n",
      "Translation (21670A28-6329-5D40-A98B-97959D32C261, \"what is that?\") should be in the mod file but isn't\n",
      "Translation (2C6E9306-CB86-BB4E-875A-A7BF701768EB, \"what is that?\") should be in the mod file but isn't\n",
      "Translation (3C5782FC-2CAE-3A4C-94D0-996E67588184, \"what is that?\") should be in the mod file but isn't\n",
      "Translation (8B2493EC-368F-2740-A9BC-907F2D6D55EA, \"what is that?\") should be in the mod file but isn't\n",
      "Translation (DF34DC04-C4FE-2340-B06A-5D69B2E8ED74, \"what is that?\") should be in the mod file but isn't\n"
     ]
    }
   ],
   "source": [
    "using System;\n",
    "using System.IO;\n",
    "using System.Text.Json;\n",
    "using System.Text.RegularExpressions;\n",
    "\n",
    "public class LocalizationTargetEntry\n",
    "{\n",
    "    public required string source { get; set; }\n",
    "    public required string target { get; set; }\n",
    "}\n",
    "\n",
    "public class LocalizationData\n",
    "{\n",
    "    public required string source { get; set; }\n",
    "    public required string target { get; set; }\n",
    "    public required Dictionary<string, Dictionary<string, LocalizationTargetEntry>> files { get; set; }\n",
    "}\n",
    "\n",
    "var localizationData = JsonSerializer.Deserialize<LocalizationData>(File.ReadAllText(Path.Combine(Environment.CurrentDirectory, \"rawdata/raw_localization.json\")));\n",
    "var uuidToTranslationText = new Dictionary<string, string>();\n",
    "\n",
    "foreach (var (fileIndex, translationList) in localizationData.files)\n",
    "{\n",
    "    foreach (var translation in translationList)\n",
    "        uuidToTranslationText.Add(translation.Key.ToUpper(), translation.Value.target);\n",
    "}\n",
    "\n",
    "Console.WriteLine($\"Total translation files: {localizationData.files.Count}\");\n",
    "Console.WriteLine($\"Total translations: {uuidToTranslationText.Count}\");\n",
    "\n",
    "//\n",
    "List<(string UUID, string Text)> loadDialogueListFromFile(string filePath)\n",
    "{\n",
    "    if (!File.Exists(filePath))\n",
    "        return null;\n",
    "\n",
    "    var parsedLines = new List<(string, string)>();\n",
    "    var pattern = @\"\\[ \"\"(.*?)\"\" \\], \\# \"\"(.*?)\"\"\";\n",
    "\n",
    "    foreach (var line in File.ReadAllLines(filePath))\n",
    "    {\n",
    "        var matches = Regex.Matches(line.Trim(), pattern);\n",
    "\n",
    "        if (!matches.Any())\n",
    "            continue;\n",
    "\n",
    "        var match = matches[0];\n",
    "        parsedLines.Add((match.Groups[1].Value.ToUpper(), match.Groups[2].Value));\n",
    "    }\n",
    "\n",
    "    return parsedLines;\n",
    "}\n",
    "\n",
    "var rawModFileData = loadDialogueListFromFile(Path.Combine(Environment.CurrentDirectory, \"mod_ShutUpAloy.ini\"));\n",
    "var modFileCollisionCheck = new HashSet<string>();\n",
    "\n",
    "Console.WriteLine($\"Blacklisted translations in mod file: {rawModFileData.Count}\");\n",
    "\n",
    "// Make sure all UUIDs in the mod file are unique\n",
    "void checkForDuplicateUUIDs()\n",
    "{\n",
    "    foreach (var (uuid, translation) in rawModFileData)\n",
    "    {\n",
    "        if (modFileCollisionCheck.Contains(uuid))\n",
    "            Console.WriteLine($\"Mod file contains duplicate translation UUID {uuid}\");\n",
    "\n",
    "        modFileCollisionCheck.Add(uuid);\n",
    "    }\n",
    "}\n",
    "\n",
    "checkForDuplicateUUIDs();\n",
    "\n",
    "// Now perform a direct comparison between all localized sentences in the game and in the mod file. Any text matches with\n",
    "// differing UUIDs should be added.\n",
    "void checkForSimilarSentences()\n",
    "{\n",
    "    string cleanLine(string input)\n",
    "    {\n",
    "        input = input.ToLower();\n",
    "        input = Regex.Replace(input, @\"\\<time.*?\\>\", \"\");   // Remove <time0.18> meta tags\n",
    "        input = input.Replace(\"\\\\n\", \" \");                  // Newlines -> spaces\n",
    "        return input.Trim();\n",
    "    }\n",
    "\n",
    "    var uuidToTranslationTextCache = uuidToTranslationText\n",
    "        .Select(x => (UUID: x.Key, Text: cleanLine(x.Value)))\n",
    "        .ToList();\n",
    "\n",
    "    var rawModFileDataCache = rawModFileData\n",
    "        .Select(x => (UUID: x.UUID, Text: cleanLine(x.Text)))\n",
    "        .ToList();\n",
    "\n",
    "    foreach (var (uuid, text) in uuidToTranslationTextCache)\n",
    "    {\n",
    "        if (!modFileCollisionCheck.Contains(uuid) && rawModFileDataCache.Any(x => x.Text.Equals(text)))\n",
    "            Console.WriteLine($\"Translation ({uuid}, \\\"{text}\\\") should be in the mod file but isn't\");\n",
    "    }\n",
    "}\n",
    "\n",
    "checkForSimilarSentences();\n",
    "\n",
    "// Fix lowercase UUIDs\n",
    "var fixedLines = new List<string>();\n",
    "var pattern = @\"\\[ \"\"(.*?)\"\" \\], \\# \"\"(.*?)\"\"\";\n",
    "\n",
    "foreach (var line in File.ReadAllLines(Path.Combine(Environment.CurrentDirectory, \"mod_ShutUpAloy.ini\")))\n",
    "{\n",
    "    var matches = Regex.Matches(line.Trim(), pattern);\n",
    "\n",
    "    if (!matches.Any())\n",
    "    {\n",
    "        fixedLines.Add(line);\n",
    "        continue;\n",
    "    }\n",
    "\n",
    "    var match = matches[0];\n",
    "    fixedLines.Add(string.Format(\"    [ \\\"{0}\\\" ], # \\\"{1}\\\"\", match.Groups[1].Value.ToUpper(), match.Groups[2].Value));\n",
    "}\n",
    "\n",
    "File.WriteAllLines(Path.Combine(Environment.CurrentDirectory, \"mod_testShutUpAloy.ini\"), fixedLines);"
   ]
  }
 ],
 "metadata": {
  "kernelspec": {
   "display_name": ".NET (C#)",
   "language": "C#",
   "name": ".net-csharp"
  },
  "language_info": {
   "name": "polyglot-notebook"
  },
  "polyglot_notebook": {
   "kernelInfo": {
    "defaultKernelName": "csharp",
    "items": [
     {
      "aliases": [],
      "name": "csharp"
     }
    ]
   }
  }
 },
 "nbformat": 4,
 "nbformat_minor": 2
}
