{
 "cells": [
  {
   "cell_type": "code",
   "execution_count": 9,
   "metadata": {
    "dotnet_interactive": {
     "language": "csharp"
    },
    "polyglot_notebook": {
     "kernelName": "csharp"
    }
   },
   "outputs": [
    {
     "name": "stdout",
     "output_type": "stream",
     "text": [
      "CRC32-C() = 0x877642DE\r\n"
     ]
    }
   ],
   "source": [
    "using System;\n",
    "using System.IO;\n",
    "using System.Text.Json;\n",
    "\n",
    "internal static class CRC32C\n",
    "{\n",
    "    private static readonly uint[] _lookupTable;\n",
    "\n",
    "    static CRC32C()\n",
    "    {\n",
    "        // Castagnoli-CRC used by SSE4.2 instructions\n",
    "        _lookupTable = new uint[256];\n",
    "\n",
    "        for (uint i = 0; i < _lookupTable.Length; i++)\n",
    "        {\n",
    "            uint r = i;\n",
    "\n",
    "            for (int j = 0; j < 8; j++)\n",
    "                r = (r & 1) != 0 ? ((r >> 1) ^ 0x82F63B78) : (r >> 1);\n",
    "\n",
    "            _lookupTable[i] = r;\n",
    "        }\n",
    "    }\n",
    "\n",
    "    public static uint Checksum(ReadOnlySpan<byte> data, uint seed = 0)\n",
    "    {\n",
    "        for (int i = 0; i < data.Length; i++)\n",
    "            seed = _lookupTable[(byte)seed ^ data[i]] ^ (seed >> 8);\n",
    "\n",
    "        return seed;\n",
    "    }\n",
    "}\n",
    "\n",
    "var data = \"IsPlayer1\";\n",
    "Console.WriteLine($\"CRC32-C() = 0x{CRC32C.Checksum(System.Text.Encoding.ASCII.GetBytes(data)):X}\");"
   ]
  }
 ],
 "metadata": {
  "kernelspec": {
   "display_name": ".NET (C#)",
   "language": "C#",
   "name": ".net-csharp"
  },
  "language_info": {
   "name": "polyglot-notebook"
  },
  "polyglot_notebook": {
   "kernelInfo": {
    "defaultKernelName": "csharp",
    "items": [
     {
      "aliases": [],
      "name": "csharp"
     }
    ]
   }
  }
 },
 "nbformat": 4,
 "nbformat_minor": 2
}
